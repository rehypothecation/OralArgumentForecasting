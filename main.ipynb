{
 "cells": [
  {
   "cell_type": "code",
   "execution_count": 6,
   "metadata": {},
   "outputs": [],
   "source": [
    "import json\r\n",
    "import os\r\n",
    "import re\r\n",
    "import requests\r\n",
    "\r\n",
    "def filetree(top):\r\n",
    "    for dirpath, _, fnames in os.walk(top):\r\n",
    "        for fname in fnames:\r\n",
    "            json_ = '(-t\\d\\d)*\\.json'\r\n",
    "            transcript_ = '-t\\d\\d\\.json'\r\n",
    "            yield {\r\n",
    "                'filename' : os.path.join(dirpath, fname),\r\n",
    "                'case_id'  : re.sub(json_, '', fname),\r\n",
    "                'type'     : 'transcript' if re.search(transcript_, fname) else 'decision_data'\r\n",
    "            }\r\n",
    "\r\n",
    "case_data = list(filetree('./data'))"
   ]
  },
  {
   "cell_type": "code",
   "execution_count": 47,
   "metadata": {},
   "outputs": [
    {
     "name": "stdout",
     "output_type": "stream",
     "text": [
      "{'href': 'https://api.oyez.org/case_decision/case_decision/16686', 'votes': [{'ideology': 0, 'seniority': 2, 'opinion_type': 'majority', 'member': {'href': 'https://api.oyez.org/people/anthony_m_kennedy', 'ID': 15113, 'last_name': 'Kennedy', 'thumbnail': {'size': 47100, 'href': 'https://api.oyez.org/sites/default/files/images/people/anthony_m_kennedy/anthony_m_kennedy.thumb.png', 'id': 32679, 'mime': 'image/png'}, 'length_of_service': 10275, 'view_count': 158, 'identifier': 'anthony_m_kennedy', 'roles': [{'appointing_president': 'Ronald Reagan', 'href': 'https://api.oyez.org/preson_role/scotus_justice/2757', 'role_title': 'Associate Justice of the Supreme Court of the United States', 'type': 'scotus_justice', 'date_end': 0, 'id': 2757, 'date_start': 572162400, 'institution_name': 'Supreme Court of the United States'}], 'name': 'Anthony M. Kennedy'}, 'href': 'https://api.oyez.org/decision_vote/decision_vote/208102', 'vote': 'majority', 'joining': None}, {'ideology': 1, 'seniority': 1, 'opinion_type': 'none', 'member': {'href': 'https://api.oyez.org/people/john_g_roberts_jr', 'ID': 15086, 'last_name': 'Roberts', 'thumbnail': {'size': 52305, 'href': 'https://api.oyez.org/sites/default/files/images/people/john_g_roberts_jr/john_g_roberts_jr.thumb.png', 'id': 32683, 'mime': 'image/png'}, 'length_of_service': 3842, 'view_count': 110, 'identifier': 'john_g_roberts_jr', 'roles': [{'appointing_president': 'George W. Bush', 'href': 'https://api.oyez.org/preson_role/scotus_justice/2730', 'role_title': 'Chief Justice of the United States', 'type': 'scotus_justice', 'date_end': 0, 'id': 2730, 'date_start': 1127970000, 'institution_name': 'Supreme Court of the United States'}], 'name': 'John G. Roberts, Jr.'}, 'href': 'https://api.oyez.org/decision_vote/decision_vote/208103', 'vote': 'majority', 'joining': [{'href': 'https://api.oyez.org/people/anthony_m_kennedy', 'ID': 15113, 'last_name': 'Kennedy', 'thumbnail': {'size': 47100, 'href': 'https://api.oyez.org/sites/default/files/images/people/anthony_m_kennedy/anthony_m_kennedy.thumb.png', 'id': 32679, 'mime': 'image/png'}, 'length_of_service': 10275, 'view_count': 158, 'identifier': 'anthony_m_kennedy', 'roles': [{'appointing_president': 'Ronald Reagan', 'href': 'https://api.oyez.org/preson_role/scotus_justice/2757', 'role_title': 'Associate Justice of the Supreme Court of the United States', 'type': 'scotus_justice', 'date_end': 0, 'id': 2757, 'date_start': 572162400, 'institution_name': 'Supreme Court of the United States'}], 'name': 'Anthony M. Kennedy'}]}, {'ideology': 4, 'seniority': 3, 'opinion_type': 'concurrence', 'member': {'href': 'https://api.oyez.org/people/clarence_thomas', 'ID': 15100, 'last_name': 'Thomas', 'thumbnail': {'size': 49064, 'href': 'https://api.oyez.org/sites/default/files/images/people/clarence_thomas/clarence_thomas.thumb.png', 'id': 32680, 'mime': 'image/png'}, 'length_of_service': 9347, 'view_count': 197, 'identifier': 'clarence_thomas', 'roles': [{'appointing_president': 'George H. W. Bush', 'href': 'https://api.oyez.org/preson_role/scotus_justice/2744', 'role_title': 'Associate Justice of the Supreme Court of the United States', 'type': 'scotus_justice', 'date_end': 0, 'id': 2744, 'date_start': 688194000, 'institution_name': 'Supreme Court of the United States'}], 'name': 'Clarence Thomas'}, 'href': 'https://api.oyez.org/decision_vote/decision_vote/208104', 'vote': 'majority', 'joining': None}, {'ideology': -3, 'seniority': 4, 'opinion_type': 'none', 'member': {'href': 'https://api.oyez.org/people/ruth_bader_ginsburg', 'ID': 15084, 'last_name': 'Ginsburg', 'thumbnail': {'size': 45030, 'href': 'https://api.oyez.org/sites/default/files/images/people/ruth_bader_ginsburg/ruth_bader_ginsburg.thumb.png', 'id': 32681, 'mime': 'image/png'}, 'length_of_service': 8275, 'view_count': 158, 'identifier': 'ruth_bader_ginsburg', 'roles': [{'appointing_president': 'Bill Clinton', 'href': 'https://api.oyez.org/preson_role/scotus_justice/2728', 'role_title': 'Associate Justice of the Supreme Court of the United States', 'type': 'scotus_justice', 'date_end': 0, 'id': 2728, 'date_start': 744958800, 'institution_name': 'Supreme Court of the United States'}], 'name': 'Ruth Bader Ginsburg'}, 'href': 'https://api.oyez.org/decision_vote/decision_vote/208105', 'vote': 'majority', 'joining': [{'href': 'https://api.oyez.org/people/anthony_m_kennedy', 'ID': 15113, 'last_name': 'Kennedy', 'thumbnail': {'size': 47100, 'href': 'https://api.oyez.org/sites/default/files/images/people/anthony_m_kennedy/anthony_m_kennedy.thumb.png', 'id': 32679, 'mime': 'image/png'}, 'length_of_service': 10275, 'view_count': 158, 'identifier': 'anthony_m_kennedy', 'roles': [{'appointing_president': 'Ronald Reagan', 'href': 'https://api.oyez.org/preson_role/scotus_justice/2757', 'role_title': 'Associate Justice of the Supreme Court of the United States', 'type': 'scotus_justice', 'date_end': 0, 'id': 2757, 'date_start': 572162400, 'institution_name': 'Supreme Court of the United States'}], 'name': 'Anthony M. Kennedy'}]}, {'ideology': -1, 'seniority': 5, 'opinion_type': 'none', 'member': {'href': 'https://api.oyez.org/people/stephen_g_breyer', 'ID': 15139, 'last_name': 'Breyer', 'thumbnail': {'size': 49908, 'href': 'https://api.oyez.org/sites/default/files/images/people/stephen_g_breyer/stephen_g_breyer.thumb.png', 'id': 32682, 'mime': 'image/png'}, 'length_of_service': 7917, 'view_count': 117, 'identifier': 'stephen_g_breyer', 'roles': [{'appointing_president': 'Bill Clinton', 'href': 'https://api.oyez.org/preson_role/scotus_justice/2785', 'role_title': 'Associate Justice of the Supreme Court of the United States', 'type': 'scotus_justice', 'date_end': 0, 'id': 2785, 'date_start': 775890000, 'institution_name': 'Supreme Court of the United States'}], 'name': 'Stephen G. Breyer'}, 'href': 'https://api.oyez.org/decision_vote/decision_vote/208106', 'vote': 'majority', 'joining': [{'href': 'https://api.oyez.org/people/anthony_m_kennedy', 'ID': 15113, 'last_name': 'Kennedy', 'thumbnail': {'size': 47100, 'href': 'https://api.oyez.org/sites/default/files/images/people/anthony_m_kennedy/anthony_m_kennedy.thumb.png', 'id': 32679, 'mime': 'image/png'}, 'length_of_service': 10275, 'view_count': 158, 'identifier': 'anthony_m_kennedy', 'roles': [{'appointing_president': 'Ronald Reagan', 'href': 'https://api.oyez.org/preson_role/scotus_justice/2757', 'role_title': 'Associate Justice of the Supreme Court of the United States', 'type': 'scotus_justice', 'date_end': 0, 'id': 2757, 'date_start': 572162400, 'institution_name': 'Supreme Court of the United States'}], 'name': 'Anthony M. Kennedy'}]}, {'ideology': 0, 'seniority': 6, 'opinion_type': 'none', 'member': {'href': 'https://api.oyez.org/people/samuel_a_alito_jr', 'ID': 15068, 'last_name': 'Alito', 'thumbnail': {'size': 44799, 'href': 'https://api.oyez.org/sites/default/files/images/people/samuel_alito_jr/samuel_alito_jr.thumb.png', 'id': 32684, 'mime': 'image/png'}, 'length_of_service': 3718, 'view_count': 96, 'identifier': 'samuel_a_alito_jr', 'roles': [{'appointing_president': 'George W. Bush', 'href': 'https://api.oyez.org/preson_role/scotus_justice/2712', 'role_title': 'Associate Justice of the Supreme Court of the United States', 'type': 'scotus_justice', 'date_end': 0, 'id': 2712, 'date_start': 1138687200, 'institution_name': 'Supreme Court of the United States'}], 'name': 'Samuel A. Alito, Jr.'}, 'href': 'https://api.oyez.org/decision_vote/decision_vote/208107', 'vote': 'majority', 'joining': [{'href': 'https://api.oyez.org/people/anthony_m_kennedy', 'ID': 15113, 'last_name': 'Kennedy', 'thumbnail': {'size': 47100, 'href': 'https://api.oyez.org/sites/default/files/images/people/anthony_m_kennedy/anthony_m_kennedy.thumb.png', 'id': 32679, 'mime': 'image/png'}, 'length_of_service': 10275, 'view_count': 158, 'identifier': 'anthony_m_kennedy', 'roles': [{'appointing_president': 'Ronald Reagan', 'href': 'https://api.oyez.org/preson_role/scotus_justice/2757', 'role_title': 'Associate Justice of the Supreme Court of the United States', 'type': 'scotus_justice', 'date_end': 0, 'id': 2757, 'date_start': 572162400, 'institution_name': 'Supreme Court of the United States'}], 'name': 'Anthony M. Kennedy'}]}, {'ideology': -4, 'seniority': 7, 'opinion_type': 'none', 'member': {'href': 'https://api.oyez.org/people/sonia_sotomayor', 'ID': 15131, 'last_name': 'Sotomayor', 'thumbnail': {'size': 50379, 'href': 'https://api.oyez.org/sites/default/files/images/people/sonia_sotomayor/sonia_sotomayor.thumb.png', 'id': 32685, 'mime': 'image/png'}, 'length_of_service': 2433, 'view_count': 124, 'identifier': 'sonia_sotomayor', 'roles': [{'appointing_president': None, 'href': 'https://api.oyez.org/preson_role/scotus_justice/2776', 'role_title': 'Associate Justice of the Supreme Court of the United States', 'type': 'scotus_justice', 'date_end': 0, 'id': 2776, 'date_start': 1249707600, 'institution_name': 'Supreme Court of the United States'}], 'name': 'Sonia Sotomayor'}, 'href': 'https://api.oyez.org/decision_vote/decision_vote/208108', 'vote': 'majority', 'joining': [{'href': 'https://api.oyez.org/people/anthony_m_kennedy', 'ID': 15113, 'last_name': 'Kennedy', 'thumbnail': {'size': 47100, 'href': 'https://api.oyez.org/sites/default/files/images/people/anthony_m_kennedy/anthony_m_kennedy.thumb.png', 'id': 32679, 'mime': 'image/png'}, 'length_of_service': 10275, 'view_count': 158, 'identifier': 'anthony_m_kennedy', 'roles': [{'appointing_president': 'Ronald Reagan', 'href': 'https://api.oyez.org/preson_role/scotus_justice/2757', 'role_title': 'Associate Justice of the Supreme Court of the United States', 'type': 'scotus_justice', 'date_end': 0, 'id': 2757, 'date_start': 572162400, 'institution_name': 'Supreme Court of the United States'}], 'name': 'Anthony M. Kennedy'}]}, {'ideology': -2, 'seniority': 8, 'opinion_type': 'none', 'member': {'href': 'https://api.oyez.org/people/elena_kagan', 'ID': 15094, 'last_name': 'Kagan', 'thumbnail': {'size': 44456, 'href': 'https://api.oyez.org/sites/default/files/images/people/elena_kagan/elena_kagan.thumb.png', 'id': 32690, 'mime': 'image/png'}, 'length_of_service': 2347, 'view_count': 126, 'identifier': 'elena_kagan', 'roles': [{'appointing_president': 'Barack Obama', 'href': 'https://api.oyez.org/preson_role/scotus_justice/2738', 'role_title': 'Associate Justice of the Supreme Court of the United States', 'type': 'scotus_justice', 'date_end': 0, 'id': 2738, 'date_start': 1281157200, 'institution_name': 'Supreme Court of the United States'}], 'name': 'Elena Kagan'}, 'href': 'https://api.oyez.org/decision_vote/decision_vote/208109', 'vote': 'majority', 'joining': [{'href': 'https://api.oyez.org/people/anthony_m_kennedy', 'ID': 15113, 'last_name': 'Kennedy', 'thumbnail': {'size': 47100, 'href': 'https://api.oyez.org/sites/default/files/images/people/anthony_m_kennedy/anthony_m_kennedy.thumb.png', 'id': 32679, 'mime': 'image/png'}, 'length_of_service': 10275, 'view_count': 158, 'identifier': 'anthony_m_kennedy', 'roles': [{'appointing_president': 'Ronald Reagan', 'href': 'https://api.oyez.org/preson_role/scotus_justice/2757', 'role_title': 'Associate Justice of the Supreme Court of the United States', 'type': 'scotus_justice', 'date_end': 0, 'id': 2757, 'date_start': 572162400, 'institution_name': 'Supreme Court of the United States'}], 'name': 'Anthony M. Kennedy'}]}], 'minority_vote': 0, 'winning_party': 'CRST Van Expedited', 'decision_type': 'majority opinion', 'majority_vote': 8, 'description': 'Ruling on the merits of a case is not required for the defendant to prevail.'}\n"
     ]
    }
   ],
   "source": [
    "with open(case_data[1]['filename'], 'r', encoding='utf-8') as file:\r\n",
    "    vote_data = json.loads(file.read())['decisions'][0]\r\n",
    "    print(vote_data)"
   ]
  },
  {
   "cell_type": "markdown",
   "metadata": {},
   "source": [
    "e.g. data <link>https://api.oyez.org/cases/2019/17-1623</link>"
   ]
  },
  {
   "cell_type": "code",
   "execution_count": 66,
   "metadata": {},
   "outputs": [
    {
     "ename": "TypeError",
     "evalue": "string indices must be integers",
     "output_type": "error",
     "traceback": [
      "\u001b[1;31m---------------------------------------------------------------------------\u001b[0m",
      "\u001b[1;31mTypeError\u001b[0m                                 Traceback (most recent call last)",
      "\u001b[1;32m<ipython-input-66-30eeb6d43850>\u001b[0m in \u001b[0;36m<module>\u001b[1;34m\u001b[0m\n\u001b[0;32m     35\u001b[0m         votes.append(\n\u001b[0;32m     36\u001b[0m             Person(\n\u001b[1;32m---> 37\u001b[1;33m                 \u001b[0mname\u001b[0m \u001b[1;33m=\u001b[0m \u001b[0mvote\u001b[0m\u001b[1;33m[\u001b[0m\u001b[1;34m'decisions'\u001b[0m\u001b[1;33m]\u001b[0m\u001b[1;33m[\u001b[0m\u001b[1;36m0\u001b[0m\u001b[1;33m]\u001b[0m\u001b[1;33m[\u001b[0m\u001b[1;34m'votes'\u001b[0m\u001b[1;33m]\u001b[0m\u001b[1;33m[\u001b[0m\u001b[1;36m0\u001b[0m\u001b[1;33m]\u001b[0m\u001b[1;33m[\u001b[0m\u001b[1;34m'member'\u001b[0m\u001b[1;33m]\u001b[0m\u001b[1;33m[\u001b[0m\u001b[1;34m'identifier'\u001b[0m\u001b[1;33m]\u001b[0m\u001b[1;33m,\u001b[0m\u001b[1;33m\u001b[0m\u001b[1;33m\u001b[0m\u001b[0m\n\u001b[0m\u001b[0;32m     38\u001b[0m                 \u001b[0mis_justice\u001b[0m \u001b[1;33m=\u001b[0m \u001b[1;32mTrue\u001b[0m\u001b[1;33m,\u001b[0m\u001b[1;33m\u001b[0m\u001b[1;33m\u001b[0m\u001b[0m\n\u001b[0;32m     39\u001b[0m                 \u001b[0msided_with\u001b[0m \u001b[1;33m=\u001b[0m \u001b[0mwinning_party\u001b[0m \u001b[1;32mif\u001b[0m \u001b[0mvote\u001b[0m\u001b[1;33m[\u001b[0m\u001b[1;34m'vote'\u001b[0m\u001b[1;33m]\u001b[0m \u001b[1;33m==\u001b[0m \u001b[1;34m'majority'\u001b[0m \u001b[1;32melse\u001b[0m \u001b[0mlosing_party\u001b[0m\u001b[1;33m\u001b[0m\u001b[1;33m\u001b[0m\u001b[0m\n",
      "\u001b[1;31mTypeError\u001b[0m: string indices must be integers"
     ]
    }
   ],
   "source": [
    "class Person:\r\n",
    "    def __init__(self, name, is_justice=False, sided_with=None, representing=None) -> None:\r\n",
    "        super().__init__()\r\n",
    "        self.name = name\r\n",
    "        self.is_justice = False\r\n",
    "        self.representing = None\r\n",
    "        self.sided_with = None\r\n",
    "        \r\n",
    "\r\n",
    "class Utterance:\r\n",
    "    def __init__(self, speaker:Person, content:str):\r\n",
    "        self.speaker = speaker\r\n",
    "        self.content = content\r\n",
    "\r\n",
    "class Case:\r\n",
    "    def __init__(self, case_name, winner, utterances:list):\r\n",
    "        self.casename = case_name\r\n",
    "        self.utterances = utterances\r\n",
    "        self.winner = winner\r\n",
    "\r\n",
    "\r\n",
    "votes = []\r\n",
    "\r\n",
    "\"\"\"\r\n",
    "Assign justice votes to names from summary file.\r\n",
    "\"\"\"\r\n",
    "\r\n",
    "with open(case_data[1]['filename'], 'r', encoding='utf-8') as file:\r\n",
    "    vote_data = json.loads(file.read())\r\n",
    "    for vote in vote_data:\r\n",
    "        first_party = vote_data['first_party']\r\n",
    "        second_party = vote_data['second_party']\r\n",
    "        winning_party = vote_data['decisions'][0]['winning_party']\r\n",
    "        losing_party = first_party if (first_party != winning_party) else second_party\r\n",
    "        votes.append(\r\n",
    "            Person(\r\n",
    "                name = vote['decisions'][0]['votes'][0]['member']['identifier'],\r\n",
    "                is_justice = True,\r\n",
    "                sided_with = winning_party if vote['vote'] == 'majority' else losing_party\r\n",
    "            )\r\n",
    "        )\r\n",
    "\r\n",
    "votes"
   ]
  },
  {
   "cell_type": "code",
   "execution_count": null,
   "metadata": {},
   "outputs": [],
   "source": []
  }
 ],
 "metadata": {
  "kernelspec": {
   "display_name": "Python 3",
   "language": "python",
   "name": "python3"
  },
  "language_info": {
   "codemirror_mode": {
    "name": "ipython",
    "version": 3
   },
   "file_extension": ".py",
   "mimetype": "text/x-python",
   "name": "python",
   "nbconvert_exporter": "python",
   "pygments_lexer": "ipython3",
   "version": "3.7.5"
  },
  "orig_nbformat": 2
 },
 "nbformat": 4,
 "nbformat_minor": 2
}